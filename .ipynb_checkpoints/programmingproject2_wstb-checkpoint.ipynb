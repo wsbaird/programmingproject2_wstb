{
 "cells": [
  {
   "cell_type": "code",
   "execution_count": 326,
   "metadata": {},
   "outputs": [],
   "source": [
    "import numpy as np\n",
    "import itertools\n",
    "import statistics as stats"
   ]
  },
  {
   "cell_type": "code",
   "execution_count": 522,
   "metadata": {},
   "outputs": [],
   "source": [
    "listofpres = [['George','Washington',1789,1797,'VA','2/22/1732','12/14/1799',57,67],\n",
    "['John','Adams1',1797,1801,'MA','10/30/1735','7/4/1826',61,90],\n",
    "['Thomas','Jefferson',1801,1809,'VA','4/13/1743','7/4/1826',57,83],\n",
    "['James','Madison',1809,1817,'VA','3/16/1751','6/28/1836',57,85],\n",
    "['James','Monroe',1817,1825,'VA','4/28/1758','7/4/1831',58,73],\n",
    "['John','Adams2',1825,1829,'MA','7/11/1767','2/23/1848',57,80],\n",
    "['Andrew','Jackson',1829,1837,'SC','3/15/1767','6/8/1845',61,78],\n",
    "['Martin','Van Buren',1837,1841,'NY','12/5/1782','7/24/1862',54,79],\n",
    "['William','Harrison1',1841,1841,'VA','2/9/1773','4/4/1841',68,68],\n",
    "['John','Tyler',1841,1845,'VA','3/29/1790','1/18/1862',51,71],\n",
    "['James','Polk',1845,1849,'NC','11/2/1795','6/15/1849',49,53],\n",
    "['Zachary','Taylor',1849,1850,'VA','11/24/1784','7/9/1850',64,65],\n",
    "['Millard','Fillmore',1850,1853,'NY','1/7/1800','3/8/1874',50,74],\n",
    "['Franklin','Pierce',1853,1857,'NH','11/23/1804','10/8/1869',48,64],\n",
    "['James','Buchanan',1857,1861,'PA','4/23/1791','6/1/1868',65,77],\n",
    "['Abraham','Lincoln',1861,1865,'KY','2/12/1809','4/15/1865',52,56],\n",
    "['Andrew','Johnson',1865,1869,'NC','12/29/1808','7/31/1875',56,66],\n",
    "['Ulysses','Grant',1869,1877,'OH','4/27/1822','7/23/1885',46,63],\n",
    "['Rutherford','Hayes',1877,1881,'OH','10/4/1822','1/17/1893',54,70],\n",
    "['James','Garfield',1881,1881,'OH','11/19/1831','9/19/1881',49,49],\n",
    "['Chester','Arthur',1881,1885,'VT','10/5/1829','11/18/1886',50,56],\n",
    "['Grover','Cleveland1',1885,1889,'NJ','3/18/1837','6/24/1908',47,71],\n",
    "['Benjamin','Harrison2',1889,1893,'OH','8/20/1833','3/13/1901',55,67],\n",
    "['Grover','Cleveland2',1893,1897,'NJ','3/18/1837','6/24/1908',55,71]]"
   ]
  },
  {
   "cell_type": "code",
   "execution_count": 199,
   "metadata": {},
   "outputs": [],
   "source": [
    "list = np.array([\n",
    "    ['George','Washington',1789,1797,'VA','2/22/1732','12/14/1799',57,67],\n",
    "    ['John','Adams1',1797,1801,'MA','10/30/1735','7/4/1826',61,90],\n",
    "    ['Thomas','Jefferson',1801,1809,'VA','4/13/1743','7/4/1826',57,83],\n",
    "    ['James','Madison',1809,1817,'VA','3/16/1751','6/28/1836',57,85],\n",
    "    ['James','Monroe',1817,1825,'VA','4/28/1758','7/4/1831',58,73],\n",
    "    ['John','Adams2',1825,1829,'MA','7/11/1767','2/23/1848',57,80],\n",
    "    ['Andrew','Jackson',1829,1837,'SC','3/15/1767','6/8/1845',61,78],\n",
    "    ['Martin','Van Buren',1837,1841,'NY','12/5/1782','7/24/1862',54,79],\n",
    "    ['William','Harrison1',1841,1841,'VA','2/9/1773','4/4/1841',68,68],\n",
    "    ['John','Tyler',1841,1845,'VA','3/29/1790','1/18/1862',51,71],\n",
    "    ['James','Polk',1845,1849,'NC','11/2/1795','6/15/1849',49,53],\n",
    "    ['Zachary','Taylor',1849,1850,'VA','11/24/1784','7/9/1850',64,65],\n",
    "    ['Millard','Fillmore',1850,1853,'NY','1/7/1800','3/8/1874',50,74],\n",
    "    ['Franklin','Pierce',1853,1857,'NH','11/23/1804','10/8/1869',48,64],\n",
    "    ['James','Buchanan',1857,1861,'PA','4/23/1791','6/1/1868',65,77],\n",
    "    ['Abraham','Lincoln',1861,1865,'KY','2/12/1809','4/15/1865',52,56],\n",
    "    ['Andrew','Johnson',1865,1869,'NC','12/29/1808','7/31/1875',56,66],\n",
    "    ['Ulysses','Grant',1869,1877,'OH','4/27/1822','7/23/1885',46,63],\n",
    "    ['Rutherford','Hayes',1877,1881,'OH','10/4/1822','1/17/1893',54,70],\n",
    "    ['James','Garfield',1881,1881,'OH','11/19/1831','9/19/1881',49,49],\n",
    "    ['Chester','Arthur',1881,1885,'VT','10/5/1829','11/18/1886',50,56],\n",
    "    ['Grover','Cleveland1',1885,1889,'NJ','3/18/1837','6/24/1908',47,71],\n",
    "    ['Benjamin','Harrison2',1889,1893,'OH','8/20/1833','3/13/1901',55,67],\n",
    "    ['Grover','Cleveland2',1893,1897,'NJ','3/18/1837','6/24/1908',55,71]\n",
    "])\n",
    "\n"
   ]
  },
  {
   "cell_type": "code",
   "execution_count": 200,
   "metadata": {},
   "outputs": [
    {
     "data": {
      "text/plain": [
       "(24, 9)"
      ]
     },
     "execution_count": 200,
     "metadata": {},
     "output_type": "execute_result"
    }
   ],
   "source": [
    "list.shape"
   ]
  },
  {
   "cell_type": "code",
   "execution_count": 285,
   "metadata": {},
   "outputs": [],
   "source": [
    "def extract_column(data, column):\n",
    "    global x\n",
    "    x= np.ndarray.tolist(list[: , column])"
   ]
  },
  {
   "cell_type": "code",
   "execution_count": 406,
   "metadata": {},
   "outputs": [
    {
     "name": "stdout",
     "output_type": "stream",
     "text": [
      "['George', 'John', 'Thomas', 'James', 'James', 'John', 'Andrew', 'Martin', 'William', 'John', 'James', 'Zachary', 'Millard', 'Franklin', 'James', 'Abraham', 'Andrew', 'Ulysses', 'Rutherford', 'James', 'Chester', 'Grover', 'Benjamin', 'Grover']\n"
     ]
    }
   ],
   "source": [
    "extract_column(0, 0)\n",
    "first = x\n",
    "print (first)"
   ]
  },
  {
   "cell_type": "code",
   "execution_count": 330,
   "metadata": {},
   "outputs": [
    {
     "data": {
      "text/plain": [
       "list"
      ]
     },
     "execution_count": 330,
     "metadata": {},
     "output_type": "execute_result"
    }
   ],
   "source": [
    "type(diedage)"
   ]
  },
  {
   "cell_type": "code",
   "execution_count": 302,
   "metadata": {},
   "outputs": [
    {
     "name": "stdout",
     "output_type": "stream",
     "text": [
      "['Washington', 'Adams1', 'Jefferson', 'Madison', 'Monroe', 'Adams2', 'Jackson', 'Van Buren', 'Harrison1', 'Tyler', 'Polk', 'Taylor', 'Fillmore', 'Pierce', 'Buchanan', 'Lincoln', 'Johnson', 'Grant', 'Hayes', 'Garfield', 'Arthur', 'Cleveland1', 'Harrison2', 'Cleveland2']\n"
     ]
    }
   ],
   "source": [
    "extract_column(0, 1)\n",
    "last = x\n",
    "print (last)"
   ]
  },
  {
   "cell_type": "code",
   "execution_count": 303,
   "metadata": {},
   "outputs": [
    {
     "name": "stdout",
     "output_type": "stream",
     "text": [
      "['1789', '1797', '1801', '1809', '1817', '1825', '1829', '1837', '1841', '1841', '1845', '1849', '1850', '1853', '1857', '1861', '1865', '1869', '1877', '1881', '1881', '1885', '1889', '1893']\n"
     ]
    }
   ],
   "source": [
    "extract_column(0, 2)\n",
    "termstart = x\n",
    "print (termstart)"
   ]
  },
  {
   "cell_type": "code",
   "execution_count": 305,
   "metadata": {},
   "outputs": [
    {
     "name": "stdout",
     "output_type": "stream",
     "text": [
      "['1797', '1801', '1809', '1817', '1825', '1829', '1837', '1841', '1841', '1845', '1849', '1850', '1853', '1857', '1861', '1865', '1869', '1877', '1881', '1881', '1885', '1889', '1893', '1897']\n"
     ]
    }
   ],
   "source": [
    "extract_column(0, 3)\n",
    "termend = x\n",
    "print (termend)"
   ]
  },
  {
   "cell_type": "code",
   "execution_count": 306,
   "metadata": {},
   "outputs": [
    {
     "name": "stdout",
     "output_type": "stream",
     "text": [
      "['VA', 'MA', 'VA', 'VA', 'VA', 'MA', 'SC', 'NY', 'VA', 'VA', 'NC', 'VA', 'NY', 'NH', 'PA', 'KY', 'NC', 'OH', 'OH', 'OH', 'VT', 'NJ', 'OH', 'NJ']\n"
     ]
    }
   ],
   "source": [
    "extract_column(0, 4)\n",
    "state = x\n",
    "print (state)"
   ]
  },
  {
   "cell_type": "code",
   "execution_count": 307,
   "metadata": {},
   "outputs": [
    {
     "name": "stdout",
     "output_type": "stream",
     "text": [
      "['2/22/1732', '10/30/1735', '4/13/1743', '3/16/1751', '4/28/1758', '7/11/1767', '3/15/1767', '12/5/1782', '2/9/1773', '3/29/1790', '11/2/1795', '11/24/1784', '1/7/1800', '11/23/1804', '4/23/1791', '2/12/1809', '12/29/1808', '4/27/1822', '10/4/1822', '11/19/1831', '10/5/1829', '3/18/1837', '8/20/1833', '3/18/1837']\n"
     ]
    }
   ],
   "source": [
    "extract_column(0, 5)\n",
    "born = x\n",
    "print (born)"
   ]
  },
  {
   "cell_type": "code",
   "execution_count": 308,
   "metadata": {},
   "outputs": [
    {
     "name": "stdout",
     "output_type": "stream",
     "text": [
      "['12/14/1799', '7/4/1826', '7/4/1826', '6/28/1836', '7/4/1831', '2/23/1848', '6/8/1845', '7/24/1862', '4/4/1841', '1/18/1862', '6/15/1849', '7/9/1850', '3/8/1874', '10/8/1869', '6/1/1868', '4/15/1865', '7/31/1875', '7/23/1885', '1/17/1893', '9/19/1881', '11/18/1886', '6/24/1908', '3/13/1901', '6/24/1908']\n"
     ]
    }
   ],
   "source": [
    "extract_column(0, 6)\n",
    "died = x\n",
    "print (died)"
   ]
  },
  {
   "cell_type": "code",
   "execution_count": 309,
   "metadata": {},
   "outputs": [
    {
     "name": "stdout",
     "output_type": "stream",
     "text": [
      "['57', '61', '57', '57', '58', '57', '61', '54', '68', '51', '49', '64', '50', '48', '65', '52', '56', '46', '54', '49', '50', '47', '55', '55']\n"
     ]
    }
   ],
   "source": [
    "extract_column(0, 7)\n",
    "starttermage = x\n",
    "print (starttermage)"
   ]
  },
  {
   "cell_type": "code",
   "execution_count": 310,
   "metadata": {},
   "outputs": [
    {
     "name": "stdout",
     "output_type": "stream",
     "text": [
      "['67', '90', '83', '85', '73', '80', '78', '79', '68', '71', '53', '65', '74', '64', '77', '56', '66', '63', '70', '49', '56', '71', '67', '71']\n"
     ]
    }
   ],
   "source": [
    "extract_column(0, 8)\n",
    "diedage = x\n",
    "print (diedage)"
   ]
  },
  {
   "cell_type": "code",
   "execution_count": 319,
   "metadata": {},
   "outputs": [],
   "source": [
    "a = first\n",
    "b = last"
   ]
  },
  {
   "cell_type": "code",
   "execution_count": 320,
   "metadata": {},
   "outputs": [],
   "source": [
    "def maketuple(listinput):\n",
    "    return tuple (listinput)\n",
    "    "
   ]
  },
  {
   "cell_type": "code",
   "execution_count": 321,
   "metadata": {},
   "outputs": [
    {
     "name": "stdout",
     "output_type": "stream",
     "text": [
      "('George', 'John', 'Thomas', 'James', 'James', 'John', 'Andrew', 'Martin', 'William', 'John', 'James', 'Zachary', 'Millard', 'Franklin', 'James', 'Abraham', 'Andrew', 'Ulysses', 'Rutherford', 'James', 'Chester', 'Grover', 'Benjamin', 'Grover')\n"
     ]
    }
   ],
   "source": [
    "tfirst = maketuple(a)\n",
    "print (tfirst)"
   ]
  },
  {
   "cell_type": "code",
   "execution_count": 322,
   "metadata": {},
   "outputs": [
    {
     "name": "stdout",
     "output_type": "stream",
     "text": [
      "('Washington', 'Adams1', 'Jefferson', 'Madison', 'Monroe', 'Adams2', 'Jackson', 'Van Buren', 'Harrison1', 'Tyler', 'Polk', 'Taylor', 'Fillmore', 'Pierce', 'Buchanan', 'Lincoln', 'Johnson', 'Grant', 'Hayes', 'Garfield', 'Arthur', 'Cleveland1', 'Harrison2', 'Cleveland2')\n"
     ]
    }
   ],
   "source": [
    "tlast = maketuple(b)\n",
    "print (tlast)"
   ]
  },
  {
   "cell_type": "code",
   "execution_count": 323,
   "metadata": {},
   "outputs": [
    {
     "name": "stdout",
     "output_type": "stream",
     "text": [
      "(('George', 'Washington'), ('John', 'Adams1'), ('Thomas', 'Jefferson'), ('James', 'Madison'), ('James', 'Monroe'), ('John', 'Adams2'), ('Andrew', 'Jackson'), ('Martin', 'Van Buren'), ('William', 'Harrison1'), ('John', 'Tyler'), ('James', 'Polk'), ('Zachary', 'Taylor'), ('Millard', 'Fillmore'), ('Franklin', 'Pierce'), ('James', 'Buchanan'), ('Abraham', 'Lincoln'), ('Andrew', 'Johnson'), ('Ulysses', 'Grant'), ('Rutherford', 'Hayes'), ('James', 'Garfield'), ('Chester', 'Arthur'), ('Grover', 'Cleveland1'), ('Benjamin', 'Harrison2'), ('Grover', 'Cleveland2'))\n"
     ]
    }
   ],
   "source": [
    "names = zip(tfirst, tlast)\n",
    "print (tuple(names))"
   ]
  },
  {
   "cell_type": "code",
   "execution_count": 324,
   "metadata": {},
   "outputs": [
    {
     "name": "stdout",
     "output_type": "stream",
     "text": [
      "[('Adams1', 'John'), ('Adams2', 'John'), ('Arthur', 'Chester'), ('Buchanan', 'James'), ('Cleveland1', 'Grover'), ('Cleveland2', 'Grover'), ('Fillmore', 'Millard'), ('Garfield', 'James'), ('Grant', 'Ulysses'), ('Harrison1', 'William'), ('Harrison2', 'Benjamin'), ('Hayes', 'Rutherford'), ('Jackson', 'Andrew'), ('Jefferson', 'Thomas'), ('Johnson', 'Andrew'), ('Lincoln', 'Abraham'), ('Madison', 'James'), ('Monroe', 'James'), ('Pierce', 'Franklin'), ('Polk', 'James'), ('Taylor', 'Zachary'), ('Tyler', 'John'), ('Van Buren', 'Martin'), ('Washington', 'George')]\n"
     ]
    }
   ],
   "source": [
    "nameslast = zip(tlast, tfirst)\n",
    "sorted_names = sorted(tuple(nameslast))\n",
    "print (sorted_names)"
   ]
  },
  {
   "cell_type": "code",
   "execution_count": 339,
   "metadata": {},
   "outputs": [],
   "source": [
    "def makeint(enter):\n",
    "    for i in range (0, len(enter)):\n",
    "        enter[i] = int(enter[i])"
   ]
  },
  {
   "cell_type": "code",
   "execution_count": 367,
   "metadata": {},
   "outputs": [
    {
     "name": "stdout",
     "output_type": "stream",
     "text": [
      "[67, 90, 83, 85, 73, 80, 78, 79, 68, 71, 53, 65, 74, 64, 77, 56, 66, 63, 70, 49, 56, 71, 67, 71]\n",
      "[57, 61, 57, 57, 58, 57, 61, 54, 68, 51, 49, 64, 50, 48, 65, 52, 56, 46, 54, 49, 50, 47, 55, 55]\n"
     ]
    }
   ],
   "source": [
    "print(diedage)\n",
    "print (starttermage)"
   ]
  },
  {
   "cell_type": "code",
   "execution_count": 351,
   "metadata": {},
   "outputs": [
    {
     "name": "stdout",
     "output_type": "stream",
     "text": [
      "69.83333333333333\n"
     ]
    }
   ],
   "source": [
    "diedmean = stats.mean(diedage)\n",
    "print(diedmean)"
   ]
  },
  {
   "cell_type": "code",
   "execution_count": 426,
   "metadata": {},
   "outputs": [
    {
     "name": "stdout",
     "output_type": "stream",
     "text": [
      "55.041666666666664\n"
     ]
    }
   ],
   "source": [
    "starttermint = makeint(starttermage)\n",
    "starttermavg = stats.mean(starttermage)\n",
    "print (starttermavg)"
   ]
  },
  {
   "cell_type": "code",
   "execution_count": 506,
   "metadata": {},
   "outputs": [],
   "source": [
    "def getpostterm(data):\n",
    "    global postterm\n",
    "    global var\n",
    "    var= (list[data, :].flatten())\n",
    "    endtermage= int(var[7])+4\n",
    "    death= int(var[8])\n",
    "    postterm= death - endtermage\n",
    "    return postterm"
   ]
  },
  {
   "cell_type": "code",
   "execution_count": 499,
   "metadata": {},
   "outputs": [
    {
     "name": "stdout",
     "output_type": "stream",
     "text": [
      "6\n"
     ]
    }
   ],
   "source": [
    "getpostterm(0)\n",
    "washington = postterm\n",
    "print (washington)"
   ]
  },
  {
   "cell_type": "code",
   "execution_count": 500,
   "metadata": {},
   "outputs": [
    {
     "name": "stdout",
     "output_type": "stream",
     "text": [
      "22\n"
     ]
    }
   ],
   "source": [
    "getpostterm(2)\n",
    "jefferson = postterm\n",
    "print (jefferson)"
   ]
  },
  {
   "cell_type": "code",
   "execution_count": 514,
   "metadata": {},
   "outputs": [
    {
     "name": "stdout",
     "output_type": "stream",
     "text": [
      "(('Washington', 6), ('Adams1', 25), ('Jefferson', 22), ('Madison', 24), ('Monroe', 11), ('Adams2', 19), ('Jackson', 13), ('Van Buren', 21), ('Harrison1', -4), ('Tyler', 16), ('Polk', 0), ('Taylor', -3), ('Fillmore', 20), ('Pierce', 12), ('Buchanan', 8), ('Lincoln', 0), ('Johnson', 6), ('Grant', 13), ('Hayes', 12), ('Garfield', -4), ('Arthur', 2), ('Cleveland1', 20), ('Harrison2', 8), ('Cleveland2', 12))\n"
     ]
    }
   ],
   "source": [
    "coord= [0,1,2,3,4,5,6,7,8,9,10,11,12,13,14,15,16,17,18,19,20,21,22,23]\n",
    "pp= tuple(map(getpostterm, coord))\n",
    "postpresidency= zip(tlast, pp)\n",
    "print (tuple(postpresidency))"
   ]
  },
  {
   "cell_type": "code",
   "execution_count": 517,
   "metadata": {},
   "outputs": [
    {
     "name": "stdout",
     "output_type": "stream",
     "text": [
      "10.791666666666666\n"
     ]
    }
   ],
   "source": [
    "meanpostpresidency = stats.mean(pp)\n",
    "print (meanpostpresidency)"
   ]
  },
  {
   "cell_type": "code",
   "execution_count": 557,
   "metadata": {},
   "outputs": [],
   "source": [
    "def converttodict():\n",
    "    global presdict\n",
    "    extract_column(0,1)\n",
    "    lastnames= x\n",
    "    extract_column(0,8)\n",
    "    deathages= x\n",
    "    presdict = dict(zip(lastnames, deathages))\n",
    "    "
   ]
  },
  {
   "cell_type": "code",
   "execution_count": 558,
   "metadata": {},
   "outputs": [
    {
     "name": "stdout",
     "output_type": "stream",
     "text": [
      "{'Washington': '67', 'Adams1': '90', 'Jefferson': '83', 'Madison': '85', 'Monroe': '73', 'Adams2': '80', 'Jackson': '78', 'Van Buren': '79', 'Harrison1': '68', 'Tyler': '71', 'Polk': '53', 'Taylor': '65', 'Fillmore': '74', 'Pierce': '64', 'Buchanan': '77', 'Lincoln': '56', 'Johnson': '66', 'Grant': '63', 'Hayes': '70', 'Garfield': '49', 'Arthur': '56', 'Cleveland1': '71', 'Harrison2': '67', 'Cleveland2': '71'}\n"
     ]
    }
   ],
   "source": [
    "converttodict()\n",
    "prezdict = presdict\n",
    "print(prezdict)"
   ]
  },
  {
   "cell_type": "code",
   "execution_count": null,
   "metadata": {},
   "outputs": [],
   "source": []
  }
 ],
 "metadata": {
  "kernelspec": {
   "display_name": "Python 3",
   "language": "python",
   "name": "python3"
  },
  "language_info": {
   "codemirror_mode": {
    "name": "ipython",
    "version": 3
   },
   "file_extension": ".py",
   "mimetype": "text/x-python",
   "name": "python",
   "nbconvert_exporter": "python",
   "pygments_lexer": "ipython3",
   "version": "3.8.3"
  }
 },
 "nbformat": 4,
 "nbformat_minor": 4
}
